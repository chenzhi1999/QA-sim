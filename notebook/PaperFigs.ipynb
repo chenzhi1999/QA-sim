{
 "cells": [
  {
   "cell_type": "code",
   "execution_count": 1,
   "metadata": {},
   "outputs": [],
   "source": [
    "import numpy as np\n",
    "import matplotlib.pyplot as plt"
   ]
  },
  {
   "cell_type": "code",
   "execution_count": null,
   "metadata": {},
   "outputs": [],
   "source": []
  },
  {
   "cell_type": "code",
   "execution_count": 5,
   "metadata": {},
   "outputs": [
    {
     "data": {
      "image/png": "[encoded data removed]",
      "text/plain": [
       "<Figure size 504x504 with 1 Axes>"
      ]
     },
     "metadata": {
      "needs_background": "light"
     },
     "output_type": "display_data"
    }
   ],
   "source": [
    "''' \n",
    "Fisher Cross Check\n",
    "___Used star# 5054, 5055\n",
    " \n",
    " \n",
    " '''\n",
    "rate = np.array([1.0,2.0,3.0,5.0,10.0])\n",
    "# Sigma_mcmc/sigma_fisher\n",
    "ratio = np.array([10.521e-10/7.92507e-10, 6.38e-10/5.60387e-10, 5.12985e-10/4.57554e-10,3.706e-10/3.54419e-10,\n",
    "                  2.45864e-10/2.50613e-10])\n",
    "\n",
    "#rate = np.array([1.0,3.0,10.0])\n",
    "#ratio = np.array([8.921/7.828,4.9394/4.5194,2.52585/2.47539])\n",
    "\n",
    "fig = plt.figure(figsize=(7,7))\n",
    "ax = fig.add_subplot(111)\n",
    "ax.scatter(rate,ratio)\n",
    "ax.set_title('Fisher cross check')\n",
    "ax.set_xlabel('Pair count multiplier',size=10);ax.set_ylabel(r'$\\sigma_{mcmc}/\\sigma_{fisher}$',size=13)\n",
    "plt.savefig(\"fisher_crosscheck\",facecolor='white')"
   ]
  },
  {
   "cell_type": "code",
   "execution_count": 3,
   "metadata": {},
   "outputs": [
    {
     "name": "stdout",
     "output_type": "stream",
     "text": [
      "Distance/Size,|    Sigma_V,       Sigma_EW,      Sigma_NS,      Sigma_phi\n",
      "15arcsec 2.5m | [0.084116623, 7.57285457e-11, 1.03935197e-10, 0.827339955]\n",
      "15arcsec 2.0m | [0.107058397, 9.96848792e-11, 1.17130715e-10, 0.828728185]\n",
      "15arcsec 1.7m | [0.120144396, 1.13945083e-10, 1.24037061e-10, 0.840638182]\n",
      "1.arcsec 1.5m | [0.0876503569, 5.17068673e-11, 1.60107819e-10, 0.828840495]\n",
      "1.arcsec 1.0m | [0.136290581, 8.67422414e-11, 1.60919633e-10, 0.81997492]\n",
      "1.arcsec 0.8m | [0.156687039, 1.24350511e-10, 1.73871663e-10, 0.847229368]\n"
     ]
    }
   ],
   "source": [
    "'''\n",
    "Real Star case:\n",
    "Different dish size:\n",
    "Real star separation of 1 arcsec (4.86e-6 rad) and 15 arcsec \n",
    "\n",
    "15arcsec: star #: 5055, 5054:  Separation:15arcsec\n",
    "1 arcsec: star #: 2891, 2890:  Separation:4.84e-6 rad\n",
    "\n",
    "'''\n",
    "_15arcsec_25m = [0.08369308, 0.07334954, 0.15034282, 0.84108407]\n",
    "_15arcsec_20m = [0.10639229, 0.09613442, 0.15817363, 0.83041629]\n",
    "_15arcsec_17m = [1.20144396e-01, 1.13945083e-10, 1.24037061e-10, 8.40638182e-01]\n",
    "\n",
    "\n",
    "_1arcsec_15m = [8.76503569e-02, 5.17068673e-11, 1.60107819e-10, 8.28840495e-01]\n",
    "_1arcsec_10m = [1.36290581e-01, 8.67422414e-11, 1.60919633e-10, 8.19974920e-01]\n",
    "_1arcsec_08m = [1.56687039e-01, 1.24350511e-10, 1.73871663e-10, 8.47229368e-01]\n",
    "\n",
    "\n",
    "print('Distance/Size,|    Sigma_V,       Sigma_EW,      Sigma_NS,      Sigma_phi')\n",
    "print(\"15arcsec 2.5m |\",_15arcsec_25m)\n",
    "print(\"15arcsec 2.0m |\",_15arcsec_20m)\n",
    "print(\"15arcsec 1.7m |\",_15arcsec_17m)\n",
    "print(\"1.arcsec 1.5m |\",_1arcsec_15m)\n",
    "print(\"1.arcsec 1.0m |\",_1arcsec_10m)\n",
    "print(\"1.arcsec 0.8m |\",_1arcsec_08m)"
   ]
  },
  {
   "cell_type": "code",
   "execution_count": null,
   "metadata": {},
   "outputs": [],
   "source": []
  }
 ],
 "metadata": {
  "kernelspec": {
   "display_name": "Python 3",
   "language": "python",
   "name": "python3"
  },
  "language_info": {
   "codemirror_mode": {
    "name": "ipython",
    "version": 3
   },
   "file_extension": ".py",
   "mimetype": "text/x-python",
   "name": "python",
   "nbconvert_exporter": "python",
   "pygments_lexer": "ipython3",
   "version": "3.10.2"
  }
 },
 "nbformat": 4,
 "nbformat_minor": 4
}
